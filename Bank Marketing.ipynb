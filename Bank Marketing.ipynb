{
 "cells": [
  {
   "cell_type": "markdown",
   "id": "e92afc1f-a9c7-4bfc-842b-85eb63f0e32b",
   "metadata": {},
   "source": [
    "https://www.kaggle.com/datasets/henriqueyamahata/bank-marketing/data\n",
    "\n",
    "This dataset is from a Portuguese banking institution and is used to predict if a client will subscribe to a term deposit. Researchers can use this data to understand what factors influence a client’s decision to subscribe to a term deposit which can inform marketing strategies for banks.\r\n",
    "\r\n"
   ]
  },
  {
   "cell_type": "code",
   "execution_count": null,
   "id": "2efd8a0d-2e44-4eec-b144-d3ae47c614f6",
   "metadata": {},
   "outputs": [],
   "source": [
    "import pandas as pd\n",
    "import numpy as np\n",
    "import matplotlib.pyplot as plt\n",
    "from sklearn.pipeline import Pipeline"
   ]
  },
  {
   "cell_type": "code",
   "execution_count": null,
   "id": "11e80891-a4e0-4e5f-a35e-7c2768fb5be0",
   "metadata": {},
   "outputs": [],
   "source": [
    "pd.set_option('display.max_columns', None)"
   ]
  },
  {
   "cell_type": "code",
   "execution_count": null,
   "id": "59b29315-9f4b-4be1-80e4-6bf75bcc54d3",
   "metadata": {},
   "outputs": [],
   "source": [
    "data=pd.read_csv('banking.csv')\n",
    "data.head()"
   ]
  },
  {
   "cell_type": "markdown",
   "id": "05a1ce55-72fc-4567-ae7b-468d687386ef",
   "metadata": {},
   "source": [
    "## EDA"
   ]
  },
  {
   "cell_type": "code",
   "execution_count": null,
   "id": "32be2684-f75c-481c-a390-e7aa1c1ffc44",
   "metadata": {},
   "outputs": [],
   "source": [
    "data.info() #datatype of columns look fine"
   ]
  },
  {
   "cell_type": "code",
   "execution_count": null,
   "id": "e264bf1e-22ac-4dea-8967-8d24c93d8fd6",
   "metadata": {},
   "outputs": [],
   "source": [
    "data.describe()"
   ]
  },
  {
   "cell_type": "markdown",
   "id": "8eff5165-957b-4502-bbf3-4ab96d5e1320",
   "metadata": {},
   "source": [
    "* Age looks symmetrical as mean and median (50%) are almost same, range shows wide-range of age groups being targeted\n",
    "* Duration is right skewed which means some calls are very long (in duration), implies outliers\n",
    "* On an average, each customer was called more than twice, max is very high (outlier)\n",
    "* Most of the people were not contacted after the previous campaign?\n",
    "* employment variation rate is left skewed (mean<<median)\n",
    "* consumer price index looks sysmmetric without much variation in the data points for all the customers (meaning this column could be removed)\n",
    "* consumer confidence index is symmetric (we need to know the scale for measuring this e.g. does this score fall b/w -100 to 100 or 100 to 0 to get further insights)\n",
    "* euribor 3 month rate is slightly left skewed\n",
    "\n"
   ]
  },
  {
   "cell_type": "code",
   "execution_count": null,
   "id": "9b480db3-6a72-4d14-ae91-d228511ce438",
   "metadata": {},
   "outputs": [],
   "source": [
    "data.isnull().sum() #there are no null values"
   ]
  },
  {
   "cell_type": "code",
   "execution_count": null,
   "id": "3fca5471-8008-4b2e-924e-acb657c1124a",
   "metadata": {},
   "outputs": [],
   "source": [
    "for col in data.columns:\n",
    "    if data[col].dtype=='object':\n",
    "        temp=data[col].value_counts()\n",
    "        print(temp)\n",
    "#clean education column categories, there is class imalance in my columns"
   ]
  },
  {
   "cell_type": "code",
   "execution_count": null,
   "id": "5ef1a6b9-54eb-4eb5-b952-13077da59351",
   "metadata": {},
   "outputs": [],
   "source": [
    "data.education=data.education.replace(r'^basic\\..*', 'basic', regex=True)"
   ]
  },
  {
   "cell_type": "code",
   "execution_count": null,
   "id": "f8c3f6f9-6aa5-4cce-882d-6b71da447660",
   "metadata": {},
   "outputs": [],
   "source": [
    "data.y.value_counts() #there is massive imbalance in the target class"
   ]
  },
  {
   "cell_type": "markdown",
   "id": "d182e08f-392e-4290-b108-5e2ff23a6925",
   "metadata": {},
   "source": [
    "### Univariate Analysis"
   ]
  },
  {
   "cell_type": "code",
   "execution_count": null,
   "id": "5b43a463-4f6b-455b-8892-4f22490d966a",
   "metadata": {},
   "outputs": [],
   "source": [
    "data.job.unique()"
   ]
  },
  {
   "cell_type": "code",
   "execution_count": null,
   "id": "86a607fa-13e4-4dde-a40d-0486e0e4ee45",
   "metadata": {
    "scrolled": true
   },
   "outputs": [],
   "source": [
    "#visualizing categorical columns\n",
    "for col in data.columns:\n",
    "    if data[col].dtype == 'object':\n",
    "        temp = data[col].value_counts()\n",
    "\n",
    "        fig, ax = plt.subplots()\n",
    "        ax.bar(temp.index, temp.values)\n",
    "        \n",
    "        ax.set_xlabel('Categories')\n",
    "        ax.set_ylabel('Count')\n",
    "        ax.set_title(f'Distribution of {col}')\n",
    "\n",
    "        ax.set_xticklabels(temp.index, rotation=90, ha='center')  # Adjust rotation angle as needed\n",
    "        plt.show()\n"
   ]
  },
  {
   "cell_type": "code",
   "execution_count": null,
   "id": "ce8ea38f-4547-4e0c-877b-d20a43a462a9",
   "metadata": {},
   "outputs": [],
   "source": [
    "# visualise non-object columns\n",
    "# check how every column is related to y\n",
    "# how to take out important columns from all thesea\n",
    "# check for outliers, imbalanced class, categorical to numerical\n",
    "# which all models to use to make prediction\n",
    "# how to preprocess the input before giving to model in deployment"
   ]
  },
  {
   "cell_type": "code",
   "execution_count": null,
   "id": "f20153bd-5f17-485a-9538-e89e181f5552",
   "metadata": {},
   "outputs": [],
   "source": [
    "#numerical columns distribution\n",
    "import seaborn as sns\n",
    "for col in data.columns:\n",
    "    if data[col].dtype!='object':\n",
    "        # ax, fig=plt.subplots()\n",
    "        sns.histplot(data[col], bins=20, kde=True)\n",
    "        plt.show()\n"
   ]
  },
  {
   "cell_type": "code",
   "execution_count": null,
   "id": "cf9839db-68c8-474c-9dd1-095eea2e365d",
   "metadata": {},
   "outputs": [],
   "source": [
    "data.previous.value_counts()"
   ]
  },
  {
   "cell_type": "code",
   "execution_count": null,
   "id": "b642a1c7-5f91-45f4-b0b9-c3fa0af493e8",
   "metadata": {},
   "outputs": [],
   "source": [
    "# data=(pd.get_dummies(data, columns=['job','marital','default','housing','loan','contact','month','day_of_week','poutcome'],dtype=int, drop_first =True,\n",
    "#                                   ))"
   ]
  },
  {
   "cell_type": "code",
   "execution_count": null,
   "id": "e7bd0043-09bc-4a52-8aab-a2cac9d58071",
   "metadata": {},
   "outputs": [],
   "source": [
    "# data.education=data.education.replace({'illiterate':1,'basic': 2,'high.school':3,'professional.course':4,'university.degree':5,'unknown':0})"
   ]
  },
  {
   "cell_type": "markdown",
   "id": "efb3afe9-ffbc-47a7-80ac-11ee5c8d954b",
   "metadata": {},
   "source": [
    "### Bivariate"
   ]
  },
  {
   "cell_type": "code",
   "execution_count": null,
   "id": "90d944c2-34d9-4260-a8b8-1f1920c7c590",
   "metadata": {},
   "outputs": [],
   "source": [
    "#age vs y. The plot does not show any strong correlation b/w age. Elder people seem to have subscribed more. Otherwise both the classes' distribution is similar\n",
    "plt.figure(figsize=(10, 6))\n",
    "sns.histplot(data[data['y'] == 0]['age'], color='blue', label='Not subscribed', kde=True)\n",
    "sns.histplot(data[data['y'] == 1]['age'], color='orange', label='Subscribed', kde=True)\n",
    "plt.legend()\n",
    "plt.show()"
   ]
  },
  {
   "cell_type": "code",
   "execution_count": null,
   "id": "891bc304-d00c-4a12-9976-19a863d4a00c",
   "metadata": {},
   "outputs": [],
   "source": [
    "#job vs y: retired and students subscribed in highest percentage. We can consider making two new columns- student (yes/no) and retired(yes/no)\n",
    "\n",
    "import matplotlib.pyplot as plt\n",
    "import seaborn as sns\n",
    "\n",
    "# Assuming 'data' is your DataFrame\n",
    "job_subscriptions = data.groupby('job')['y'].value_counts(normalize=True).unstack()\n",
    "\n",
    "# Plotting\n",
    "plt.figure(figsize=(12, 6))\n",
    "sns.barplot(data=job_subscriptions.reset_index(), x='job', y=0, color='green', label='Not Subscribed')\n",
    "sns.barplot(data=job_subscriptions.reset_index(), x='job', y=1, color='blue', label='Subscribed')\n",
    "\n",
    "# Adding annotations\n",
    "for i, (not_subscribed, subscribed) in enumerate(zip(job_subscriptions[0], job_subscriptions[1])):\n",
    "    plt.text(i, not_subscribed / 2, f'{not_subscribed:.2%}', va='center', ha='center', color='white', fontsize=10, weight='bold')\n",
    "    plt.text(i, not_subscribed + subscribed / 2, f'{subscribed:.2%}', va='center', ha='center', color='white', fontsize=10, weight='bold')\n",
    "\n",
    "# Adding labels and title\n",
    "plt.xlabel('Job Category')\n",
    "plt.ylabel('Percentage')\n",
    "plt.title('Subscription Status by Job Category')\n",
    "plt.legend(title='Subscription Status')\n",
    "\n",
    "# Display the plot\n",
    "plt.xticks(rotation=45, ha='right')\n",
    "plt.show()\n"
   ]
  },
  {
   "cell_type": "code",
   "execution_count": null,
   "id": "0cefcdec-db45-4be2-8dac-bc5a83a9193d",
   "metadata": {},
   "outputs": [],
   "source": [
    "# marital vs y (I am assuming marital will have less correlation with y): there is no correlation as such\n",
    "\n",
    "import matplotlib.pyplot as plt\n",
    "import seaborn as sns\n",
    "\n",
    "# Assuming 'data' is your DataFrame\n",
    "job_subscriptions = data.groupby('marital')['y'].value_counts(normalize=True).unstack()\n",
    "\n",
    "# Plotting\n",
    "plt.figure(figsize=(12, 6))\n",
    "sns.barplot(data=job_subscriptions.reset_index(), x='marital', y=0, color='green', label='Not Subscribed')\n",
    "sns.barplot(data=job_subscriptions.reset_index(), x='marital', y=1, color='blue', label='Subscribed')\n",
    "\n",
    "# Adding annotations\n",
    "for i, (not_subscribed, subscribed) in enumerate(zip(job_subscriptions[0], job_subscriptions[1])):\n",
    "    plt.text(i, not_subscribed / 2, f'{not_subscribed:.2%}', va='center', ha='center', color='white', fontsize=10, weight='bold')\n",
    "    plt.text(i, not_subscribed + subscribed / 2, f'{subscribed:.2%}', va='center', ha='center', color='white', fontsize=10, weight='bold')\n",
    "\n",
    "# Adding labels and title\n",
    "plt.xlabel('Marital Status')\n",
    "plt.ylabel('Percentage')\n",
    "plt.title('Subscription Status by Marital Status')\n",
    "plt.legend(title='Subscription Status')\n",
    "\n",
    "# Display the plot\n",
    "plt.xticks(rotation=45, ha='right')\n",
    "plt.show()\n"
   ]
  },
  {
   "cell_type": "code",
   "execution_count": 194,
   "id": "c4391872-624e-4956-a9aa-8edc72c610fb",
   "metadata": {},
   "outputs": [
    {
     "data": {
      "image/png": "[encoded data removed]",
      "text/plain": [
       "<Figure size 1200x600 with 1 Axes>"
      ]
     },
     "metadata": {},
     "output_type": "display_data"
    }
   ],
   "source": [
    "#education vs y: illeterate people have highest percentage of subscription (if education and job has a correlation, we can drop education)\n",
    "# drop education and make another feature- illeterate (yes/no)\n",
    "\n",
    "# Assuming 'data' is your DataFrame\n",
    "job_subscriptions = data.groupby('education')['y'].value_counts(normalize=True).unstack()\n",
    "\n",
    "# Plotting\n",
    "plt.figure(figsize=(12, 6))\n",
    "sns.barplot(data=job_subscriptions.reset_index(), x='education', y=0, color='green', label='Not Subscribed')\n",
    "sns.barplot(data=job_subscriptions.reset_index(), x='education', y=1, color='blue', label='Subscribed')\n",
    "\n",
    "# Adding annotations\n",
    "for i, (not_subscribed, subscribed) in enumerate(zip(job_subscriptions[0], job_subscriptions[1])):\n",
    "    plt.text(i, not_subscribed / 2, f'{not_subscribed:.2%}', va='center', ha='center', color='white', fontsize=10, weight='bold')\n",
    "    plt.text(i, not_subscribed + subscribed / 2, f'{subscribed:.2%}', va='center', ha='center', color='white', fontsize=10, weight='bold')\n",
    "\n",
    "# Adding labels and title\n",
    "plt.xlabel('education Category')\n",
    "plt.ylabel('Percentage')\n",
    "plt.title('Subscription Status by education Category')\n",
    "plt.legend(title='Subscription Status')\n",
    "\n",
    "# Display the plot\n",
    "plt.xticks(rotation=45, ha='right')\n",
    "plt.show()\n"
   ]
  },
  {
   "cell_type": "code",
   "execution_count": null,
   "id": "3d415958-1cf1-4aef-a7bf-c9d96282c5ca",
   "metadata": {},
   "outputs": [],
   "source": [
    "# default vs y (most of the values are 'no', there are only 3 entries for 'yes' so we might consider dropping this)\n",
    "job_subscriptions = data.groupby('default')['y'].value_counts(normalize=True).unstack()\n",
    "\n",
    "# Plotting\n",
    "plt.figure(figsize=(12, 6))\n",
    "sns.barplot(data=job_subscriptions.reset_index(), x='default', y=0, color='green', label='Not Subscribed')\n",
    "sns.barplot(data=job_subscriptions.reset_index(), x='default', y=1, color='blue', label='Subscribed')\n",
    "\n",
    "# Adding annotations\n",
    "for i, (not_subscribed, subscribed) in enumerate(zip(job_subscriptions[0], job_subscriptions[1])):\n",
    "    plt.text(i, not_subscribed / 2, f'{not_subscribed:.2%}', va='center', ha='center', color='white', fontsize=10, weight='bold')\n",
    "    plt.text(i, not_subscribed + subscribed / 2, f'{subscribed:.2%}', va='center', ha='center', color='white', fontsize=10, weight='bold')\n",
    "\n",
    "# Adding labels and title\n",
    "plt.xlabel('default Category')\n",
    "plt.ylabel('Percentage')\n",
    "plt.title('Subscription Status by default Category')\n",
    "plt.legend(title='Subscription Status')\n",
    "\n",
    "# Display the plot\n",
    "plt.xticks(rotation=45, ha='right')\n",
    "plt.show()\n"
   ]
  },
  {
   "cell_type": "code",
   "execution_count": null,
   "id": "6f0073aa-2c3f-4fd5-b926-5bd959ff91c7",
   "metadata": {},
   "outputs": [],
   "source": [
    "# housing vs y (might be less correlated): almost same response for all the categories, therefore drop\n",
    "job_subscriptions = data.groupby('housing')['y'].value_counts(normalize=True).unstack()\n",
    "\n",
    "# Plotting\n",
    "plt.figure(figsize=(12, 6))\n",
    "sns.barplot(data=job_subscriptions.reset_index(), x='housing', y=0, color='green', label='Not Subscribed')\n",
    "sns.barplot(data=job_subscriptions.reset_index(), x='housing', y=1, color='blue', label='Subscribed')\n",
    "\n",
    "# Adding annotations\n",
    "for i, (not_subscribed, subscribed) in enumerate(zip(job_subscriptions[0], job_subscriptions[1])):\n",
    "    plt.text(i, not_subscribed / 2, f'{not_subscribed:.2%}', va='center', ha='center', color='white', fontsize=10, weight='bold')\n",
    "    plt.text(i, not_subscribed + subscribed / 2, f'{subscribed:.2%}', va='center', ha='center', color='white', fontsize=10, weight='bold')\n",
    "\n",
    "# Adding labels and title\n",
    "plt.xlabel('Housing Category')\n",
    "plt.ylabel('Percentage')\n",
    "plt.title('Subscription Status by Housing Category')\n",
    "plt.legend(title='Subscription Status')\n",
    "\n",
    "# Display the plot\n",
    "plt.xticks(rotation=45, ha='right')\n",
    "plt.show()"
   ]
  },
  {
   "cell_type": "code",
   "execution_count": null,
   "id": "d5614aeb-26e5-4df0-889d-87f7c018b586",
   "metadata": {},
   "outputs": [],
   "source": [
    "# loan vs y: doesn't seem to have much impact on 'y'\n",
    "\n",
    "job_subscriptions = data.groupby('loan')['y'].value_counts(normalize=True).unstack()\n",
    "\n",
    "plt.figure(figsize=(12, 6))\n",
    "sns.barplot(data=job_subscriptions.reset_index(), x='loan', y=0, color='green', label='Not Subscribed')\n",
    "sns.barplot(data=job_subscriptions.reset_index(), x='loan', y=1, color='blue', label='Subscribed')\n",
    "\n",
    "for i, (not_subscribed, subscribed) in enumerate(zip(job_subscriptions[0], job_subscriptions[1])):\n",
    "    plt.text(i, not_subscribed / 2, f'{not_subscribed:.2%}', va='center', ha='center', color='white', fontsize=10, weight='bold')\n",
    "    plt.text(i, not_subscribed + subscribed / 2, f'{subscribed:.2%}', va='center', ha='center', color='white', fontsize=10, weight='bold')\n",
    "\n",
    "plt.xlabel('Loan Category')\n",
    "plt.ylabel('Percentage')\n",
    "plt.title('Subscription Status by Loan Category')\n",
    "plt.legend(title='Subscription Status')\n",
    "\n",
    "plt.xticks(rotation=45, ha='right')\n",
    "plt.show()"
   ]
  },
  {
   "cell_type": "code",
   "execution_count": null,
   "id": "410b793c-b016-470e-9eea-f7cb0a015f93",
   "metadata": {},
   "outputs": [],
   "source": [
    "# contact vs y: not huge variation though\n",
    "job_subscriptions = data.groupby('contact')['y'].value_counts(normalize=True).unstack()\n",
    "\n",
    "plt.figure(figsize=(12, 6))\n",
    "sns.barplot(data=job_subscriptions.reset_index(), x='contact', y=0, color='green', label='Not Subscribed')\n",
    "sns.barplot(data=job_subscriptions.reset_index(), x='contact', y=1, color='blue', label='Subscribed')\n",
    "\n",
    "for i, (not_subscribed, subscribed) in enumerate(zip(job_subscriptions[0], job_subscriptions[1])):\n",
    "    plt.text(i, not_subscribed / 2, f'{not_subscribed:.2%}', va='center', ha='center', color='white', fontsize=10, weight='bold')\n",
    "    plt.text(i, not_subscribed + subscribed / 2, f'{subscribed:.2%}', va='center', ha='center', color='white', fontsize=10, weight='bold')\n",
    "\n",
    "plt.xlabel('Contact Category')\n",
    "plt.ylabel('Percentage')\n",
    "plt.title('Subscription Status by Contact Category')\n",
    "plt.legend(title='Subscription Status')\n",
    "\n",
    "plt.xticks(rotation=45, ha='right')\n",
    "plt.show()"
   ]
  },
  {
   "cell_type": "code",
   "execution_count": null,
   "id": "4ab92f1a-202c-4023-8f1c-e9a93fe54bb9",
   "metadata": {},
   "outputs": [],
   "source": [
    "# mongth vs y: seem to have some correlation but for months with high subscriptions, there is very low count\n",
    "job_subscriptions = data.groupby('month')['y'].value_counts(normalize=True).unstack()\n",
    "\n",
    "plt.figure(figsize=(12, 6))\n",
    "sns.barplot(data=job_subscriptions.reset_index(), x='month', y=0, color='green', label='Not Subscribed')\n",
    "sns.barplot(data=job_subscriptions.reset_index(), x='month', y=1, color='blue', label='Subscribed')\n",
    "\n",
    "for i, (not_subscribed, subscribed) in enumerate(zip(job_subscriptions[0], job_subscriptions[1])):\n",
    "    plt.text(i, not_subscribed / 2, f'{not_subscribed:.2%}', va='center', ha='center', color='white', fontsize=10, weight='bold')\n",
    "    plt.text(i, not_subscribed + subscribed / 2, f'{subscribed:.2%}', va='center', ha='center', color='white', fontsize=10, weight='bold')\n",
    "\n",
    "plt.xlabel('Month')\n",
    "plt.ylabel('Percentage')\n",
    "plt.title('Subscription Status by Month')\n",
    "plt.legend(title='Subscription Status')\n",
    "\n",
    "plt.xticks(rotation=45, ha='right')\n",
    "plt.show()"
   ]
  },
  {
   "cell_type": "code",
   "execution_count": null,
   "id": "5be4c536-7321-450d-b3c3-5e2bed1d9b53",
   "metadata": {},
   "outputs": [],
   "source": [
    "# day_of_week vs y: doesn't seem to have any correlation as such\n",
    "job_subscriptions = data.groupby('day_of_week')['y'].value_counts(normalize=True).unstack()\n",
    "\n",
    "plt.figure(figsize=(12, 6))\n",
    "sns.barplot(data=job_subscriptions.reset_index(), x='day_of_week', y=0, color='green', label='Not Subscribed')\n",
    "sns.barplot(data=job_subscriptions.reset_index(), x='day_of_week', y=1, color='blue', label='Subscribed')\n",
    "\n",
    "for i, (not_subscribed, subscribed) in enumerate(zip(job_subscriptions[0], job_subscriptions[1])):\n",
    "    plt.text(i, not_subscribed / 2, f'{not_subscribed:.2%}', va='center', ha='center', color='white', fontsize=10, weight='bold')\n",
    "    plt.text(i, not_subscribed + subscribed / 2, f'{subscribed:.2%}', va='center', ha='center', color='white', fontsize=10, weight='bold')\n",
    "\n",
    "plt.xlabel('day_of_week')\n",
    "plt.ylabel('Percentage')\n",
    "plt.title('Subscription Status by day_of_week')\n",
    "plt.legend(title='Subscription Status')\n",
    "\n",
    "plt.xticks(rotation=45, ha='right')\n",
    "plt.show()"
   ]
  },
  {
   "cell_type": "code",
   "execution_count": null,
   "id": "ec4a6463-1939-44d5-b39f-aba31e62292b",
   "metadata": {},
   "outputs": [],
   "source": [
    "# duration (we might drop it): as the duration increased, more people subscribed\n",
    "plt.figure(figsize=(10, 6))\n",
    "sns.histplot(data[data['y'] == 0]['duration'], color='blue', label='Class 0', kde=True)\n",
    "sns.histplot(data[data['y'] == 1]['duration'], color='orange', label='Class 1', kde=True)\n",
    "plt.legend()\n",
    "plt.show()"
   ]
  },
  {
   "cell_type": "code",
   "execution_count": null,
   "id": "1b15e20a-5e23-425a-b293-a641da96f42c",
   "metadata": {},
   "outputs": [],
   "source": [
    "# campaign vs y: doesn't seem to have substaintial impact\n",
    "plt.figure(figsize=(10, 6))\n",
    "sns.histplot(data[data['y'] == 0]['campaign'], color='blue', label='Class 0', kde=True)\n",
    "sns.histplot(data[data['y'] == 1]['campaign'], color='orange', label='Class 1', kde=True)\n",
    "plt.legend()\n",
    "plt.show()"
   ]
  },
  {
   "cell_type": "code",
   "execution_count": null,
   "id": "89dbd2cb-1819-49a7-8d8f-0a4c24182d3d",
   "metadata": {},
   "outputs": [],
   "source": [
    "# pdays (most of the values are '999' meaning not contacted, therefore, can drop it)\n",
    "plt.figure(figsize=(10, 6))\n",
    "sns.histplot(data[(data['y'] == 0) & (data['pdays'] != 999)]['pdays'], color='blue', label='Class 0', kde=True)\n",
    "sns.histplot(data[(data['y'] == 1) & (data['pdays'] != 999)]['pdays'], color='orange', label='Class 1', kde=True)\n",
    "plt.legend()\n",
    "plt.show()"
   ]
  },
  {
   "cell_type": "code",
   "execution_count": null,
   "id": "a280d861-25a4-4077-a3b7-bc336baa8481",
   "metadata": {},
   "outputs": [],
   "source": [
    "# pevious vs y (most of the values are 0, therefore, consider dropping)\n",
    "plt.figure(figsize=(10, 6))\n",
    "sns.histplot(data[(data['y'] == 0)]['previous'], color='blue', label='Class 0', kde=True)\n",
    "sns.histplot(data[(data['y'] == 1)]['previous'], color='orange', label='Class 1', kde=True)\n",
    "plt.legend()\n",
    "plt.show()"
   ]
  },
  {
   "cell_type": "code",
   "execution_count": null,
   "id": "0a17ee2d-c649-40da-aa94-a42f4d4bc339",
   "metadata": {},
   "outputs": [],
   "source": [
    "# poutcome vs y\n",
    "job_subscriptions = data.groupby('poutcome')['y'].value_counts(normalize=True).unstack()\n",
    "\n",
    "plt.figure(figsize=(12, 6))\n",
    "sns.barplot(data=job_subscriptions.reset_index(), x='poutcome', y=0, color='green', label='Not Subscribed')\n",
    "sns.barplot(data=job_subscriptions.reset_index(), x='poutcome', y=1, color='blue', label='Subscribed')\n",
    "\n",
    "for i, (not_subscribed, subscribed) in enumerate(zip(job_subscriptions[0], job_subscriptions[1])):\n",
    "    plt.text(i, not_subscribed / 2, f'{not_subscribed:.2%}', va='center', ha='center', color='white', fontsize=10, weight='bold')\n",
    "    plt.text(i, not_subscribed + subscribed / 2, f'{subscribed:.2%}', va='center', ha='center', color='white', fontsize=10, weight='bold')\n",
    "\n",
    "plt.xlabel('poutcome')\n",
    "plt.ylabel('Percentage')\n",
    "plt.title('Subscription Status by poutcome')\n",
    "plt.legend(title='Subscription Status')\n",
    "\n",
    "plt.xticks(rotation=45, ha='right')\n",
    "plt.show()"
   ]
  },
  {
   "cell_type": "code",
   "execution_count": null,
   "id": "767a2be2-f884-4cd9-bd59-f2b04f242994",
   "metadata": {},
   "outputs": [],
   "source": [
    "# emp_var_rate vs y: seems to have some correlation with 'y'\n",
    "job_subscriptions = data.groupby('emp_var_rate')['y'].value_counts(normalize=True).unstack()\n",
    "\n",
    "plt.figure(figsize=(12, 6))\n",
    "sns.barplot(data=job_subscriptions.reset_index(), x='emp_var_rate', y=0, color='green', label='Not Subscribed')\n",
    "sns.barplot(data=job_subscriptions.reset_index(), x='emp_var_rate', y=1, color='blue', label='Subscribed')\n",
    "\n",
    "for i, (not_subscribed, subscribed) in enumerate(zip(job_subscriptions[0], job_subscriptions[1])):\n",
    "    plt.text(i, not_subscribed / 2, f'{not_subscribed:.2%}', va='center', ha='center', color='white', fontsize=10, weight='bold')\n",
    "    plt.text(i, not_subscribed + subscribed / 2, f'{subscribed:.2%}', va='center', ha='center', color='white', fontsize=10, weight='bold')\n",
    "\n",
    "plt.xlabel('emp_var_rate')\n",
    "plt.ylabel('Percentage')\n",
    "plt.title('Subscription Status by emp_var_rate')\n",
    "plt.legend(title='Subscription Status')\n",
    "\n",
    "plt.xticks(rotation=45, ha='right')\n",
    "plt.show()"
   ]
  },
  {
   "cell_type": "code",
   "execution_count": null,
   "id": "d1c39527-c431-4d21-bc51-1c3844adade9",
   "metadata": {},
   "outputs": [],
   "source": [
    "# cons_price_idx vs y\n",
    "plt.figure(figsize=(10, 6))\n",
    "sns.histplot(data[(data['y'] == 0)]['cons_price_idx'], color='blue', label='Class 0', kde=True)\n",
    "sns.histplot(data[(data['y'] == 1)]['cons_price_idx'], color='orange', label='Class 1', kde=True)\n",
    "plt.legend()\n",
    "plt.show()"
   ]
  },
  {
   "cell_type": "code",
   "execution_count": null,
   "id": "ab6c8acd-6d76-416d-82e3-1fae9e7aa94f",
   "metadata": {},
   "outputs": [],
   "source": [
    "# euribor3m vs y\n",
    "plt.figure(figsize=(10, 6))\n",
    "sns.histplot(data[(data['y'] == 0)]['euribor3m'], color='blue', label='Class 0', kde=True)\n",
    "sns.histplot(data[(data['y'] == 1)]['euribor3m'], color='orange', label='Class 1', kde=True)\n",
    "plt.legend()\n",
    "plt.show()"
   ]
  },
  {
   "cell_type": "code",
   "execution_count": null,
   "id": "6b2e8cc5-c53e-4946-a559-72298d45f5ba",
   "metadata": {},
   "outputs": [],
   "source": [
    "# nr_employed vs y: seems to be some correlation\n",
    "job_subscriptions = data.groupby('nr_employed')['y'].value_counts(normalize=True).unstack()\n",
    "\n",
    "plt.figure(figsize=(12, 6))\n",
    "sns.barplot(data=job_subscriptions.reset_index(), x='nr_employed', y=0, color='green', label='Not Subscribed')\n",
    "sns.barplot(data=job_subscriptions.reset_index(), x='nr_employed', y=1, color='blue', label='Subscribed')\n",
    "\n",
    "for i, (not_subscribed, subscribed) in enumerate(zip(job_subscriptions[0], job_subscriptions[1])):\n",
    "    plt.text(i, not_subscribed / 2, f'{not_subscribed:.2%}', va='center', ha='center', color='white', fontsize=10, weight='bold')\n",
    "    plt.text(i, not_subscribed + subscribed / 2, f'{subscribed:.2%}', va='center', ha='center', color='white', fontsize=10, weight='bold')\n",
    "\n",
    "plt.xlabel('nr_employed')\n",
    "plt.ylabel('Percentage')\n",
    "plt.title('Subscription Status by nr_employed')\n",
    "plt.legend(title='Subscription Status')\n",
    "\n",
    "plt.xticks(rotation=45, ha='right')\n",
    "plt.show()"
   ]
  },
  {
   "cell_type": "code",
   "execution_count": null,
   "id": "67a0a7a5-2383-4104-837c-47eb6928396f",
   "metadata": {},
   "outputs": [],
   "source": [
    "#job vs housing: since there is significatnt correlation between these two, we can drop one of them\n",
    "import pandas as pd\n",
    "from scipy.stats import chi2_contingency\n",
    "\n",
    "# Assuming 'data' is your DataFrame\n",
    "job_education_contingency = pd.crosstab(data['job'], data['education'])\n",
    "\n",
    "# Performing Chi-Square test\n",
    "chi2, p, _, _ = chi2_contingency(job_education_contingency)\n",
    "\n",
    "# Display results\n",
    "print(f\"Chi-Square Value: {chi2}\")\n",
    "print(f\"P-Value: {p}\")\n",
    "\n",
    "# Interpret the results\n",
    "alpha = 0.05\n",
    "if p < alpha:\n",
    "    print(\"There is a significant association between 'job' and 'education'.\")\n",
    "else:\n",
    "    print(\"There is no significant association between 'job' and 'education'.\")\n"
   ]
  },
  {
   "cell_type": "code",
   "execution_count": null,
   "id": "29627c2e-0ec9-4467-bf3c-e954a395969a",
   "metadata": {},
   "outputs": [],
   "source": [
    "#education vs job\n",
    "import pandas as pd\n",
    "from scipy.stats import chi2_contingency\n",
    "\n",
    "# Assuming 'data' is your DataFrame\n",
    "job_education_contingency = pd.crosstab(data['job'], data['housing'])\n",
    "\n",
    "# Performing Chi-Square test\n",
    "chi2, p, _, _ = chi2_contingency(job_education_contingency)\n",
    "\n",
    "# Display results\n",
    "print(f\"Chi-Square Value: {chi2}\")\n",
    "print(f\"P-Value: {p}\")\n",
    "\n",
    "# Interpret the results\n",
    "alpha = 0.05\n",
    "if p < alpha:\n",
    "    print(\"There is a significant association between 'job' and 'education'.\")\n",
    "else:\n",
    "    print(\"There is no significant association between 'job' and 'education'.\")\n"
   ]
  },
  {
   "cell_type": "code",
   "execution_count": null,
   "id": "d8142bc9-66c0-47d8-a499-ff87150473a1",
   "metadata": {},
   "outputs": [],
   "source": [
    "#job vs marital: can keep one since higher correlation\n",
    "import pandas as pd\n",
    "from scipy.stats import chi2_contingency\n",
    "\n",
    "# Assuming 'data' is your DataFrame\n",
    "job_education_contingency = pd.crosstab(data['job'], data['marital'])\n",
    "\n",
    "# Performing Chi-Square test\n",
    "chi2, p, _, _ = chi2_contingency(job_education_contingency)\n",
    "\n",
    "# Display results\n",
    "print(f\"Chi-Square Value: {chi2}\")\n",
    "print(f\"P-Value: {p}\")\n",
    "\n",
    "# Interpret the results\n",
    "alpha = 0.05\n",
    "if p < alpha:\n",
    "    print(\"There is a significant association between 'job' and 'marital status\")\n",
    "else:\n",
    "    print(\"There is no significant association between 'job' and 'marital status'.\")\n"
   ]
  },
  {
   "cell_type": "code",
   "execution_count": null,
   "id": "210f3792-5f13-4554-84c7-ce67ca0a4949",
   "metadata": {},
   "outputs": [],
   "source": [
    "#job vs contact: can keep one since higher correlation: keep one\n",
    "import pandas as pd\n",
    "from scipy.stats import chi2_contingency\n",
    "\n",
    "# Assuming 'data' is your DataFrame\n",
    "job_education_contingency = pd.crosstab(data['job'], data['contact'])\n",
    "\n",
    "# Performing Chi-Square test\n",
    "chi2, p, _, _ = chi2_contingency(job_education_contingency)\n",
    "\n",
    "# Display results\n",
    "print(f\"Chi-Square Value: {chi2}\")\n",
    "print(f\"P-Value: {p}\")\n",
    "\n",
    "# Interpret the results\n",
    "alpha = 0.05\n",
    "if p < alpha:\n",
    "    print(\"There is a significant association between 'job' and 'education'.\")\n",
    "else:\n",
    "    print(\"There is no significant association between 'job' and 'education'.\")\n"
   ]
  },
  {
   "cell_type": "code",
   "execution_count": null,
   "id": "43a8df73-01d0-47d1-86c4-e46203a7b167",
   "metadata": {},
   "outputs": [],
   "source": [
    "#job vs contact: can keep one since higher correlation: keep one\n",
    "import pandas as pd\n",
    "from scipy.stats import chi2_contingency\n",
    "\n",
    "# Assuming 'data' is your DataFrame\n",
    "job_education_contingency = pd.crosstab(data['y'], data['poutcome'])\n",
    "\n",
    "# Performing Chi-Square test\n",
    "chi2, p, _, _ = chi2_contingency(job_education_contingency)\n",
    "\n",
    "# Display results\n",
    "print(f\"Chi-Square Value: {chi2}\")\n",
    "print(f\"P-Value: {p}\")\n",
    "\n",
    "# Interpret the results\n",
    "alpha = 0.05\n",
    "if p < alpha:\n",
    "    print(\"There is a significant association between 'y' and 'default'.\")\n",
    "else:\n",
    "    print(\"There is no significant association between 'job' and 'education'.\")\n"
   ]
  },
  {
   "cell_type": "code",
   "execution_count": null,
   "id": "e3a8a7f7-7cb0-4b41-99ea-6cfb7c1365f3",
   "metadata": {},
   "outputs": [],
   "source": [
    "from scipy.stats import kruskal\n",
    "\n",
    "# Assuming 'data' is your DataFrame\n",
    "result = kruskal(data['emp_var_rate'], data['y'])\n",
    "print(f\"Kruskal-Wallis H-Statistic: {result.statistic}\")\n",
    "print(f\"P-Value: {result.pvalue}\")\n",
    "if result.pvalue<0.05:\n",
    "    print('there is a significant relationship')\n",
    "else:\n",
    "    print(\"there is no significant relationship\")"
   ]
  },
  {
   "cell_type": "markdown",
   "id": "7125c24e-3b4e-4368-ba30-7fef0454d46d",
   "metadata": {},
   "source": [
    "### Feature Selection"
   ]
  },
  {
   "cell_type": "code",
   "execution_count": null,
   "id": "73e20fcc-d7b9-4d52-92b8-3202e7a63b1b",
   "metadata": {},
   "outputs": [],
   "source": [
    "#dropping other columns based on the insights from visualizations, test, and automated \n",
    "df=data[['age','job','education','month','nr_employed','euribor3m']]\n",
    "df.head()"
   ]
  },
  {
   "cell_type": "code",
   "execution_count": null,
   "id": "0b12c2f8-3b84-43e6-bdd1-9169f566280c",
   "metadata": {},
   "outputs": [],
   "source": [
    "# Assuming 'data' is your DataFrame\n",
    "numerical_columns = df.select_dtypes(include='number').columns\n",
    "for column in numerical_columns:\n",
    "    Q1 = df[column].quantile(0.25)\n",
    "    Q3 = df[column].quantile(0.75)\n",
    "    IQR = Q3 - Q1\n",
    "    outliers = (df[column] < Q1 - 1.5 * IQR) | (df[column] > Q3 + 1.5 * IQR)\n",
    "    if any(outliers):\n",
    "        print(f'{column}: has outliers')\n",
    "        # print(f'Outliers in {column}: {df[outliers][column].tolist()}')\n",
    "        "
   ]
  },
  {
   "cell_type": "code",
   "execution_count": null,
   "id": "4e3319c6-7b49-4a52-95f8-ac5512305e97",
   "metadata": {},
   "outputs": [],
   "source": [
    "plt.figure(figsize=(8, 5))\n",
    "sns.boxplot(x=df['age'])\n",
    "plt.title(f'Box Plot for Age')\n",
    "plt.show()"
   ]
  },
  {
   "cell_type": "code",
   "execution_count": null,
   "id": "454d9d67-9708-41f5-acf6-34dadc762186",
   "metadata": {
    "scrolled": true
   },
   "outputs": [],
   "source": [
    "df=pd.get_dummies(df,columns=['job','month'],dtype=int, drop_first =True)"
   ]
  },
  {
   "cell_type": "code",
   "execution_count": null,
   "id": "63f9fe34-1d1b-4194-99f2-fb6915219bad",
   "metadata": {},
   "outputs": [],
   "source": [
    "df.education=df.education.replace({'illiterate':0,'basic': 1,'high.school':2,'professional.course':3,'university.degree':4,'unknown':5})"
   ]
  },
  {
   "cell_type": "code",
   "execution_count": null,
   "id": "f09f9e6b-34c8-4eb0-af4e-7d479949f5ab",
   "metadata": {},
   "outputs": [],
   "source": [
    "df.head()"
   ]
  },
  {
   "cell_type": "markdown",
   "id": "b389a657-bceb-41c0-b3d8-12432b0038a4",
   "metadata": {},
   "source": [
    "### Model Training"
   ]
  },
  {
   "cell_type": "code",
   "execution_count": null,
   "id": "92302090-d786-498a-9d5f-b71b15f7faf1",
   "metadata": {},
   "outputs": [],
   "source": [
    "target=data['y']\n",
    "from sklearn.model_selection import train_test_split\n",
    "x_train, x_test, y_train, y_test=train_test_split(df,target,\n",
    "    test_size=0.2, random_state=10 )"
   ]
  },
  {
   "cell_type": "markdown",
   "id": "e9c55393-7a64-4159-bd23-018edfe7d506",
   "metadata": {},
   "source": [
    "#### Random Forest"
   ]
  },
  {
   "cell_type": "code",
   "execution_count": null,
   "id": "e9ac2fa3-bc91-4e62-95b5-dfafbf6726bd",
   "metadata": {},
   "outputs": [],
   "source": [
    "from sklearn.preprocessing import StandardScaler\n",
    "n_estimators=[23,51,101]\n",
    "max_features=['log2', 'sqrt']\n",
    "max_depth=[20,30,40,50,60]\n",
    "min_samples_split=[100,200,150,250]\n",
    "min_samples_leaf=[1,2,3]\n",
    "bootstrap=[True,False]\n",
    "\n",
    "random_grid={\n",
    "  'n_estimators': n_estimators,\n",
    "  'max_features':max_features\n",
    "  ,'max_depth':max_depth,\n",
    "  'min_samples_split':min_samples_split,\n",
    "  'min_samples_leaf':min_samples_leaf,\n",
    "  'bootstrap':bootstrap\n",
    "}"
   ]
  },
  {
   "cell_type": "code",
   "execution_count": null,
   "id": "a0322d0c-d1bf-45ea-9637-198e3cff2844",
   "metadata": {
    "scrolled": true
   },
   "outputs": [],
   "source": [
    "from sklearn.model_selection import RandomizedSearchCV\n",
    "from sklearn.ensemble import RandomForestClassifier\n",
    "classifier=RandomForestClassifier()\n",
    "\n",
    "model_tuning=RandomizedSearchCV(estimator=classifier, param_distributions=random_grid, n_iter=50,random_state=12,verbose=3)\n",
    "\n",
    "model_tuning.fit(x_train,y_train)\n",
    "\n",
    "print('random grid', random_grid)\n",
    "print('best parameters: ', model_tuning.best_params_)\n",
    "\n",
    "best_param=model_tuning.best_params_\n",
    "\n",
    "scaler = StandardScaler()\n",
    "# x_train = scaler.fit_transform(x_train)\n",
    "# x_test = scaler.transform(x_test)\n",
    "\n",
    "model_tuned=RandomForestClassifier(n_estimators= best_param['n_estimators'], max_depth= best_param['max_depth'],\n",
    "                                 max_features=best_param['max_features'], min_samples_split=best_param['min_samples_split'],\n",
    "                                min_samples_leaf=best_param['min_samples_leaf'], bootstrap=best_param['bootstrap'])\n",
    "model_tuned.fit(x_train,y_train)"
   ]
  },
  {
   "cell_type": "code",
   "execution_count": null,
   "id": "c422f7e3-9c59-4005-a98b-f59cc9dc8dce",
   "metadata": {},
   "outputs": [],
   "source": [
    "# CLASS WEIGHT ADJUSTED MODEL\n",
    "class_weights = dict(zip([0, 1], [(1 / sum(y_train == class_label)) for class_label in [0, 1]]))\n",
    "model_tuned=RandomForestClassifier(class_weight=class_weights,n_estimators= best_param['n_estimators'], max_depth= best_param['max_depth'],\n",
    "                                 max_features=best_param['max_features'], min_samples_split=best_param['min_samples_split'],\n",
    "                                min_samples_leaf=best_param['min_samples_leaf'], bootstrap=best_param['bootstrap'])\n",
    "model_tuned.fit(x_train,y_train)"
   ]
  },
  {
   "cell_type": "code",
   "execution_count": null,
   "id": "f8d2ca73-a565-49de-b52b-e01b3944e127",
   "metadata": {},
   "outputs": [],
   "source": []
  },
  {
   "cell_type": "code",
   "execution_count": null,
   "id": "534622c8-f6e2-4833-bdbd-067a96683abc",
   "metadata": {},
   "outputs": [],
   "source": [
    "#on training data\n",
    "# model_tuned=best_model\n",
    "pred1=model_tuned.predict(x_train)\n",
    "from sklearn.metrics import accuracy_score, precision_score, recall_score\n",
    "\n",
    "acc=accuracy_score(y_train,pred1)\n",
    "prec= precision_score(y_train,pred1)\n",
    "rec= recall_score(y_train,pred1)\n",
    "print({'accuracy': round(acc,2), 'precision':round(prec,2), 'recall':round(rec,2)})"
   ]
  },
  {
   "cell_type": "code",
   "execution_count": null,
   "id": "62cca716-94b6-40fd-950e-28a0ee632cd3",
   "metadata": {},
   "outputs": [],
   "source": [
    "#on test data\n",
    "pred=model_tuned.predict(x_test)\n",
    "from sklearn.metrics import accuracy_score, precision_score, recall_score\n",
    "\n",
    "acc=accuracy_score(y_test,pred)\n",
    "prec= precision_score(y_test,pred)\n",
    "rec= recall_score(y_test,pred)\n",
    "print({'accuracy': round(acc,2), 'precision':round(prec,2), 'recall':round(rec,2)})"
   ]
  },
  {
   "cell_type": "code",
   "execution_count": null,
   "id": "5cb95849-0012-4e9e-8021-d3ca148f5680",
   "metadata": {},
   "outputs": [],
   "source": [
    "#understanding how the model performs on both the classes separately\n",
    "from sklearn.metrics import precision_score, recall_score, f1_score\n",
    "# Assuming 'y_test' and 'pred' are your true and predicted labels\n",
    "precision_0 = precision_score(y_test, pred, pos_label=0)\n",
    "recall_0 = recall_score(y_test, pred, pos_label=0)\n",
    "f1_0 = f1_score(y_test, pred, pos_label=0)\n",
    "\n",
    "precision_1 = precision_score(y_test, pred, pos_label=1)\n",
    "recall_1 = recall_score(y_test, pred, pos_label=1)\n",
    "f1_1 = f1_score(y_test, pred, pos_label=1)\n",
    "\n",
    "print('Class 0 Metrics:')\n",
    "print(f'Precision: {precision_0}')\n",
    "print(f'Recall: {recall_0}')\n",
    "print(f'F1-Score: {f1_0}')\n",
    "\n",
    "print('Class 1 Metrics:')\n",
    "print(f'Precision: {precision_1}')\n",
    "print(f'Recall: {recall_1}')\n",
    "print(f'F1-Score: {f1_1}')\n"
   ]
  },
  {
   "cell_type": "code",
   "execution_count": null,
   "id": "dc17704d-f52a-4377-8740-afbcc26557cd",
   "metadata": {},
   "outputs": [],
   "source": [
    "#confusion matrix (y axis is actual and x axis is predicted)\n",
    "from sklearn.metrics import confusion_matrix\n",
    "cm=confusion_matrix(y_test,pred)\n",
    "print(cm)\n",
    "plt.figure(figsize=(8, 6))\n",
    "sns.heatmap(cm, annot=True, fmt=\"d\", cmap=\"Blues\", xticklabels=[0, 1], yticklabels=[0, 1])"
   ]
  },
  {
   "cell_type": "code",
   "execution_count": null,
   "id": "123a2b63-508b-4a1e-b006-589268192473",
   "metadata": {},
   "outputs": [],
   "source": [
    "from sklearn.metrics import roc_curve, roc_auc_score\n",
    "auc = roc_auc_score(y_test, pred)\n",
    "fpr, tpr, thresholds = roc_curve(y_test, pred)\n",
    "plt.plot(fpr, tpr, label='ROC Curve (AUC = %0.2f)' % auc)"
   ]
  },
  {
   "cell_type": "markdown",
   "id": "4939dfdd-780d-42a5-8ae0-fd80808bb310",
   "metadata": {},
   "source": [
    "#### Gradient Boost"
   ]
  },
  {
   "cell_type": "code",
   "execution_count": null,
   "id": "e7303464-1eaa-4d5f-934f-8875a2f2f187",
   "metadata": {},
   "outputs": [],
   "source": [
    "n_estimators=[23,51,101]\n",
    "loss=['log_loss', 'exponential']\n",
    "criterion=['friedman_mse', 'squared_error']\n",
    "learning_rate=[0.1,0.2,0.5,0.7]\n",
    "max_features=['log2', 'sqrt']\n",
    "max_depth=[20,30,40,50,60]\n",
    "min_samples_split=[100,200,150,250]\n",
    "min_samples_leaf=[1,2,3]\n",
    "# bootstrap=[True,False]\n",
    "\n",
    "random_grid={\n",
    "  'n_estimators': n_estimators,\n",
    "    'loss':loss,\n",
    "    'criterion':criterion,\n",
    "    'learning_rate':learning_rate,\n",
    "  'max_features':max_features\n",
    "  ,'max_depth':max_depth,\n",
    "  'min_samples_split':min_samples_split,\n",
    "  'min_samples_leaf':min_samples_leaf\n",
    "  # 'bootstrap':bootstrap\n",
    "}"
   ]
  },
  {
   "cell_type": "code",
   "execution_count": null,
   "id": "700fd887-ad28-4789-8512-b77fa467d427",
   "metadata": {
    "scrolled": true
   },
   "outputs": [],
   "source": [
    "from sklearn.model_selection import RandomizedSearchCV\n",
    "from sklearn.ensemble import GradientBoostingClassifier\n",
    "classifier=GradientBoostingClassifier()\n",
    "\n",
    "model_tuning=RandomizedSearchCV(estimator=classifier, param_distributions=random_grid, n_iter=10,random_state=12,verbose=3)\n",
    "\n",
    "model_tuning.fit(x_train,y_train)\n",
    "\n",
    "print('random grid', random_grid)\n",
    "print('best parameters: ', model_tuning.best_params_)\n",
    "\n",
    "best_param=model_tuning.best_params_\n",
    "\n",
    "model_tuned=GradientBoostingClassifier(n_estimators= best_param['n_estimators'], max_depth= best_param['max_depth'],\n",
    "                                 max_features=best_param['max_features'], min_samples_split=best_param['min_samples_split'],\n",
    "                                min_samples_leaf=best_param['min_samples_leaf'], loss=best_param['loss'],criterion=best_param['criterion'],\n",
    "                                  learning_rate=best_param['learning_rate'])\n",
    "class_weights = {0: 1, 1: 7}\n",
    "model_tuned.fit(x_train,y_train,sample_weight=y_train.map(class_weights))"
   ]
  },
  {
   "cell_type": "code",
   "execution_count": null,
   "id": "c24c78a0-019a-446b-832c-12fe1355a49d",
   "metadata": {},
   "outputs": [],
   "source": [
    "#on training data\n",
    "# model_tuned=best_model\n",
    "pred1=model_tuned.predict(x_train)\n",
    "from sklearn.metrics import accuracy_score, precision_score, recall_score\n",
    "\n",
    "acc=accuracy_score(y_train,pred1)\n",
    "prec= precision_score(y_train,pred1)\n",
    "rec= recall_score(y_train,pred1)\n",
    "print({'accuracy': round(acc,2), 'precision':round(prec,2), 'recall':round(rec,2)})"
   ]
  },
  {
   "cell_type": "code",
   "execution_count": null,
   "id": "176285ab-6b5b-45fd-b066-6a64ab5a3003",
   "metadata": {},
   "outputs": [],
   "source": [
    "#on test data\n",
    "pred=model_tuned.predict(x_test)\n",
    "from sklearn.metrics import accuracy_score, precision_score, recall_score\n",
    "\n",
    "acc=accuracy_score(y_test,pred)\n",
    "prec= precision_score(y_test,pred)\n",
    "rec= recall_score(y_test,pred)\n",
    "print({'accuracy': round(acc,2), 'precision':round(prec,2), 'recall':round(rec,2)})"
   ]
  },
  {
   "cell_type": "code",
   "execution_count": null,
   "id": "07aebfea-5e5d-434c-a53b-803f6832eba2",
   "metadata": {},
   "outputs": [],
   "source": [
    "#understanding how the model performs on both the classes separately\n",
    "from sklearn.metrics import precision_score, recall_score, f1_score\n",
    "# Assuming 'y_test' and 'pred' are your true and predicted labels\n",
    "precision_0 = precision_score(y_test, pred, pos_label=0)\n",
    "recall_0 = recall_score(y_test, pred, pos_label=0)\n",
    "f1_0 = f1_score(y_test, pred, pos_label=0)\n",
    "\n",
    "precision_1 = precision_score(y_test, pred, pos_label=1)\n",
    "recall_1 = recall_score(y_test, pred, pos_label=1)\n",
    "f1_1 = f1_score(y_test, pred, pos_label=1)\n",
    "\n",
    "print('Class 0 Metrics:')\n",
    "print(f'Precision: {precision_0}')\n",
    "print(f'Recall: {recall_0}')\n",
    "print(f'F1-Score: {f1_0}')\n",
    "\n",
    "print('Class 1 Metrics:')\n",
    "print(f'Precision: {precision_1}')\n",
    "print(f'Recall: {recall_1}')\n",
    "print(f'F1-Score: {f1_1}')\n"
   ]
  },
  {
   "cell_type": "code",
   "execution_count": null,
   "id": "f791ecb7-5bc2-4014-8101-1958ee8e6814",
   "metadata": {},
   "outputs": [],
   "source": [
    "#confusion matrix (y axis is actual and x axis is predicted)\n",
    "from sklearn.metrics import confusion_matrix\n",
    "cm=confusion_matrix(y_test,pred)\n",
    "print(cm)\n",
    "plt.figure(figsize=(8, 6))\n",
    "sns.heatmap(cm, annot=True, fmt=\"d\", cmap=\"Blues\", xticklabels=[0, 1], yticklabels=[0, 1])"
   ]
  },
  {
   "cell_type": "code",
   "execution_count": null,
   "id": "4e823239-5d09-4a81-b51c-75a40c76cf29",
   "metadata": {},
   "outputs": [],
   "source": [
    "from sklearn.metrics import roc_curve, roc_auc_score\n",
    "auc = roc_auc_score(y_test, pred)\n",
    "fpr, tpr, thresholds = roc_curve(y_test, pred)\n",
    "plt.plot(fpr, tpr, label='ROC Curve (AUC = %0.2f)' % auc)"
   ]
  },
  {
   "cell_type": "markdown",
   "id": "6a213401-808c-428e-a961-13c8a519f0f1",
   "metadata": {},
   "source": [
    "### XGBoost"
   ]
  },
  {
   "cell_type": "code",
   "execution_count": null,
   "id": "872b0c7f-61cf-41b9-8df7-2c73ad35aa9f",
   "metadata": {},
   "outputs": [],
   "source": [
    "\n",
    "from xgboost import XGBClassifier\n",
    "\n",
    "# Create the XGBoost classifier\n",
    "class_weights = sum(y_train == 0) / sum(y_train == 1)\n",
    "xgb_model = XGBClassifier(random_state=42,scale_pos_weight=class_weights)\n",
    "\n",
    "# Define the hyperparameter grid\n",
    "param_dist = {\n",
    "    'n_estimators': [50, 100, 150, 200],\n",
    "    'learning_rate': [0.01, 0.05, 0.1, 0.2],\n",
    "    'max_depth': [3, 5, 7, 9],\n",
    "    'subsample': [0.8, 0.9, 1.0],\n",
    "    'colsample_bytree': [0.8, 0.9, 1.0],\n",
    "    'min_child_weight': [1, 2, 4],\n",
    "}\n",
    "\n",
    "# Create the RandomizedSearchCV object\n",
    "random_search = RandomizedSearchCV(\n",
    "    xgb_model, param_distributions=param_dist, n_iter=10,\n",
    "    scoring='accuracy', cv=5, random_state=42, n_jobs=-1,verbose=3)\n",
    "\n",
    "# class_weights = {0: 1, 1: 5}\n",
    "# Perform the Randomized Search\n",
    "random_search.fit(x_train, y_train)\n",
    "\n",
    "# Get the best parameters and model\n",
    "best_params = random_search.best_params_\n",
    "best_model = random_search.best_estimator_\n"
   ]
  },
  {
   "cell_type": "code",
   "execution_count": null,
   "id": "03e84d13-31c8-41a0-9bec-7d0a319160dc",
   "metadata": {},
   "outputs": [],
   "source": [
    "#on training data\n",
    "model_tuned=best_model\n",
    "pred1=model_tuned.predict(x_train)\n",
    "from sklearn.metrics import accuracy_score, precision_score, recall_score\n",
    "\n",
    "acc=accuracy_score(y_train,pred1)\n",
    "prec= precision_score(y_train,pred1)\n",
    "rec= recall_score(y_train,pred1)\n",
    "print({'accuracy': round(acc,2), 'precision':round(prec,2), 'recall':round(rec,2)})"
   ]
  },
  {
   "cell_type": "code",
   "execution_count": null,
   "id": "8087702e-00ea-481f-af02-1935c1c9569a",
   "metadata": {},
   "outputs": [],
   "source": [
    "#on test data\n",
    "pred=model_tuned.predict(x_test)\n",
    "from sklearn.metrics import accuracy_score, precision_score, recall_score\n",
    "\n",
    "acc=accuracy_score(y_test,pred)\n",
    "prec= precision_score(y_test,pred)\n",
    "rec= recall_score(y_test,pred)\n",
    "print({'accuracy': round(acc,2), 'precision':round(prec,2), 'recall':round(rec,2)})"
   ]
  },
  {
   "cell_type": "code",
   "execution_count": null,
   "id": "839ef5a8-f67a-4d62-a8e6-893c05d21fe6",
   "metadata": {},
   "outputs": [],
   "source": [
    "#understanding how the model performs on both the classes separately\n",
    "from sklearn.metrics import precision_score, recall_score, f1_score\n",
    "# Assuming 'y_test' and 'pred' are your true and predicted labels\n",
    "precision_0 = precision_score(y_test, pred, pos_label=0)\n",
    "recall_0 = recall_score(y_test, pred, pos_label=0)\n",
    "f1_0 = f1_score(y_test, pred, pos_label=0)\n",
    "\n",
    "precision_1 = precision_score(y_test, pred, pos_label=1)\n",
    "recall_1 = recall_score(y_test, pred, pos_label=1)\n",
    "f1_1 = f1_score(y_test, pred, pos_label=1)\n",
    "\n",
    "print('Class 0 Metrics:')\n",
    "print(f'Precision: {precision_0}')\n",
    "print(f'Recall: {recall_0}')\n",
    "print(f'F1-Score: {f1_0}')\n",
    "\n",
    "print('Class 1 Metrics:')\n",
    "print(f'Precision: {precision_1}')\n",
    "print(f'Recall: {recall_1}')\n",
    "print(f'F1-Score: {f1_1}')\n"
   ]
  },
  {
   "cell_type": "code",
   "execution_count": null,
   "id": "860d203e-358e-402c-8f49-dcba2761a17b",
   "metadata": {},
   "outputs": [],
   "source": [
    "#confusion matrix (y axis is actual and x axis is predicted)\n",
    "from sklearn.metrics import confusion_matrix\n",
    "cm=confusion_matrix(y_test,pred)\n",
    "print(cm)\n",
    "plt.figure(figsize=(8, 6))\n",
    "sns.heatmap(cm, annot=True, fmt=\"d\", cmap=\"Blues\", xticklabels=[0, 1], yticklabels=[0, 1])"
   ]
  },
  {
   "cell_type": "code",
   "execution_count": null,
   "id": "8a4be2d5-f7f1-450f-a96c-b8bf5dbbe38f",
   "metadata": {},
   "outputs": [],
   "source": [
    "from sklearn.metrics import roc_curve, roc_auc_score\n",
    "auc = roc_auc_score(y_test, pred)\n",
    "fpr, tpr, thresholds = roc_curve(y_test, pred)\n",
    "plt.plot(fpr, tpr, label='ROC Curve (AUC = %0.2f)' % auc)"
   ]
  },
  {
   "cell_type": "markdown",
   "id": "0b7d7101-76c6-4d1e-8de0-6424c1d5d23e",
   "metadata": {},
   "source": [
    "### Under and Over Sampling"
   ]
  },
  {
   "cell_type": "markdown",
   "id": "ccd833ce-bea3-42ad-a1fd-7b30d95e7244",
   "metadata": {},
   "source": [
    "#### Oversampling with SMOTE"
   ]
  },
  {
   "cell_type": "code",
   "execution_count": null,
   "id": "227bf32d-225a-4890-b4a4-a7b144ba3f77",
   "metadata": {},
   "outputs": [],
   "source": [
    "from imblearn.over_sampling import SMOTE\n",
    "smote = SMOTE(random_state=42)\n",
    "x_resampled, y_resampled = smote.fit_resample(x_train, y_train)"
   ]
  },
  {
   "cell_type": "code",
   "execution_count": null,
   "id": "b142d6c3-5ca3-47ff-9889-d8d4068bb393",
   "metadata": {},
   "outputs": [],
   "source": [
    "y_resampled.value_counts()"
   ]
  },
  {
   "cell_type": "code",
   "execution_count": null,
   "id": "95839320-06a7-4e85-89a6-8f2c9614f978",
   "metadata": {
    "scrolled": true
   },
   "outputs": [],
   "source": [
    "from sklearn.model_selection import RandomizedSearchCV\n",
    "from sklearn.ensemble import RandomForestClassifier\n",
    "classifier=RandomForestClassifier()\n",
    "\n",
    "model_tuning=RandomizedSearchCV(estimator=classifier, param_distributions=random_grid, n_iter=50,random_state=12,verbose=3)\n",
    "\n",
    "model_tuning.fit(x_resampled,y_resampled)\n",
    "\n",
    "print('random grid', random_grid)\n",
    "print('best parameters: ', model_tuning.best_params_)\n",
    "\n",
    "best_param=model_tuning.best_params_\n",
    "\n",
    "scaler = StandardScaler()\n",
    "# x_train = scaler.fit_transform(x_train)\n",
    "# x_test = scaler.transform(x_test)\n",
    "\n",
    "model_tuned=RandomForestClassifier(n_estimators= best_param['n_estimators'], max_depth= best_param['max_depth'],\n",
    "                                 max_features=best_param['max_features'], min_samples_split=best_param['min_samples_split'],\n",
    "                                min_samples_leaf=best_param['min_samples_leaf'], bootstrap=best_param['bootstrap'])\n",
    "model_tuned.fit(x_train,y_train)"
   ]
  },
  {
   "cell_type": "code",
   "execution_count": 191,
   "id": "aac5b92e-cdc6-4670-acfb-01981a09f6b9",
   "metadata": {},
   "outputs": [
    {
     "name": "stdout",
     "output_type": "stream",
     "text": [
      "{'accuracy': 0.83, 'precision': 0.36, 'recall': 0.64}\n"
     ]
    }
   ],
   "source": [
    "#on training data\n",
    "model_tuned=model_tuning.best_estimator_\n",
    "pred1=model_tuned.predict(x_train)\n",
    "from sklearn.metrics import accuracy_score, precision_score, recall_score\n",
    "\n",
    "acc=accuracy_score(y_train,pred1)\n",
    "prec= precision_score(y_train,pred1)\n",
    "rec= recall_score(y_train,pred1)\n",
    "print({'accuracy': round(acc,2), 'precision':round(prec,2), 'recall':round(rec,2)})"
   ]
  },
  {
   "cell_type": "code",
   "execution_count": 192,
   "id": "a6c6a0e6-9b43-42a9-bdeb-5365a893edec",
   "metadata": {},
   "outputs": [
    {
     "name": "stdout",
     "output_type": "stream",
     "text": [
      "{'accuracy': 0.84, 'precision': 0.38, 'recall': 0.65}\n"
     ]
    }
   ],
   "source": [
    "#on test data\n",
    "pred=model_tuned.predict(x_test)\n",
    "from sklearn.metrics import accuracy_score, precision_score, recall_score\n",
    "\n",
    "acc=accuracy_score(y_test,pred)\n",
    "prec= precision_score(y_test,pred)\n",
    "rec= recall_score(y_test,pred)\n",
    "print({'accuracy': round(acc,2), 'precision':round(prec,2), 'recall':round(rec,2)})"
   ]
  },
  {
   "cell_type": "code",
   "execution_count": 193,
   "id": "f7c9b130-b04d-4b6f-831a-5c102476e8ab",
   "metadata": {},
   "outputs": [
    {
     "name": "stdout",
     "output_type": "stream",
     "text": [
      "Class 0 Metrics:\n",
      "Precision: 0.9516443910497072\n",
      "Recall: 0.8670132713093447\n",
      "F1-Score: 0.9073596792668958\n",
      "Class 1 Metrics:\n",
      "Precision: 0.3844205193160228\n",
      "Recall: 0.6533907427341227\n",
      "F1-Score: 0.4840510366826156\n"
     ]
    }
   ],
   "source": [
    "#understanding how the model performs on both the classes separately\n",
    "from sklearn.metrics import precision_score, recall_score, f1_score\n",
    "# Assuming 'y_test' and 'pred' are your true and predicted labels\n",
    "precision_0 = precision_score(y_test, pred, pos_label=0)\n",
    "recall_0 = recall_score(y_test, pred, pos_label=0)\n",
    "f1_0 = f1_score(y_test, pred, pos_label=0)\n",
    "\n",
    "precision_1 = precision_score(y_test, pred, pos_label=1)\n",
    "recall_1 = recall_score(y_test, pred, pos_label=1)\n",
    "f1_1 = f1_score(y_test, pred, pos_label=1)\n",
    "\n",
    "print('Class 0 Metrics:')\n",
    "print(f'Precision: {precision_0}')\n",
    "print(f'Recall: {recall_0}')\n",
    "print(f'F1-Score: {f1_0}')\n",
    "\n",
    "print('Class 1 Metrics:')\n",
    "print(f'Precision: {precision_1}')\n",
    "print(f'Recall: {recall_1}')\n",
    "print(f'F1-Score: {f1_1}')\n"
   ]
  },
  {
   "cell_type": "code",
   "execution_count": null,
   "id": "6803da1a-a1dc-45c5-973f-76ebaef7531b",
   "metadata": {},
   "outputs": [],
   "source": [
    "#confusion matrix (y axis is actual and x axis is predicted)\n",
    "from sklearn.metrics import confusion_matrix\n",
    "cm=confusion_matrix(y_test,pred)\n",
    "print(cm)\n",
    "plt.figure(figsize=(8, 6))\n",
    "sns.heatmap(cm, annot=True, fmt=\"d\", cmap=\"Blues\", xticklabels=[0, 1], yticklabels=[0, 1])"
   ]
  },
  {
   "cell_type": "code",
   "execution_count": null,
   "id": "cde24189-a9b2-4a57-800d-c449dca1d265",
   "metadata": {},
   "outputs": [],
   "source": [
    "from sklearn.metrics import roc_curve, roc_auc_score\n",
    "auc = roc_auc_score(y_test, pred)\n",
    "fpr, tpr, thresholds = roc_curve(y_test, pred)\n",
    "plt.plot(fpr, tpr, label='ROC Curve (AUC = %0.2f)' % auc)"
   ]
  },
  {
   "cell_type": "markdown",
   "id": "f698ad6f-dcbe-4c55-bcbd-f961d83c5f13",
   "metadata": {},
   "source": [
    "#### UnderSampling"
   ]
  },
  {
   "cell_type": "code",
   "execution_count": null,
   "id": "a8696cf5-90d2-4a52-83c1-fda306f06de0",
   "metadata": {},
   "outputs": [],
   "source": [
    "from imblearn.under_sampling import RandomUnderSampler\n",
    "undersampler = RandomUnderSampler(random_state=42)\n",
    "\n",
    "# Fit and apply RandomUnderSampler only on the training data\n",
    "x_resampled, y_resampled = undersampler.fit_resample(x_train, y_train)\n"
   ]
  },
  {
   "cell_type": "code",
   "execution_count": null,
   "id": "ab28a162-785d-4810-848d-5ae5794fe5bb",
   "metadata": {
    "scrolled": true
   },
   "outputs": [],
   "source": [
    "from sklearn.model_selection import RandomizedSearchCV\n",
    "from sklearn.ensemble import RandomForestClassifier\n",
    "classifier=RandomForestClassifier()\n",
    "\n",
    "model_tuning=RandomizedSearchCV(estimator=classifier, param_distributions=random_grid, n_iter=50,random_state=12,verbose=3)\n",
    "\n",
    "model_tuning.fit(x_resampled,y_resampled)\n",
    "\n",
    "print('random grid', random_grid)\n",
    "print('best parameters: ', model_tuning.best_params_)\n",
    "\n",
    "best_param=model_tuning.best_params_\n",
    "\n",
    "scaler = StandardScaler()\n",
    "# x_train = scaler.fit_transform(x_train)\n",
    "# x_test = scaler.transform(x_test)\n",
    "\n",
    "model_tuned=RandomForestClassifier(n_estimators= best_param['n_estimators'], max_depth= best_param['max_depth'],\n",
    "                                 max_features=best_param['max_features'], min_samples_split=best_param['min_samples_split'],\n",
    "                                min_samples_leaf=best_param['min_samples_leaf'], bootstrap=best_param['bootstrap'])\n",
    "model_tuned.fit(x_resampled,y_resampled)"
   ]
  },
  {
   "cell_type": "code",
   "execution_count": 187,
   "id": "aed692ab-bb0a-4678-8c45-b4a0c9cae7ff",
   "metadata": {},
   "outputs": [
    {
     "name": "stdout",
     "output_type": "stream",
     "text": [
      "{'accuracy': 0.83, 'precision': 0.36, 'recall': 0.64}\n"
     ]
    }
   ],
   "source": [
    "#on training data\n",
    "# model_tuned=model_tuning.best_estimator_\n",
    "pred1=model_tuned.predict(x_train)\n",
    "from sklearn.metrics import accuracy_score, precision_score, recall_score\n",
    "\n",
    "acc=accuracy_score(y_train,pred1)\n",
    "prec= precision_score(y_train,pred1)\n",
    "rec= recall_score(y_train,pred1)\n",
    "print({'accuracy': round(acc,2), 'precision':round(prec,2), 'recall':round(rec,2)})"
   ]
  },
  {
   "cell_type": "code",
   "execution_count": 188,
   "id": "8eb632b5-8aea-4f17-91eb-968f1b52ed30",
   "metadata": {},
   "outputs": [
    {
     "name": "stdout",
     "output_type": "stream",
     "text": [
      "{'accuracy': 0.84, 'precision': 0.39, 'recall': 0.66}\n"
     ]
    }
   ],
   "source": [
    "#on test data\n",
    "pred=model_tuned.predict(x_test)\n",
    "from sklearn.metrics import accuracy_score, precision_score, recall_score\n",
    "\n",
    "acc=accuracy_score(y_test,pred)\n",
    "prec= precision_score(y_test,pred)\n",
    "rec= recall_score(y_test,pred)\n",
    "print({'accuracy': round(acc,2), 'precision':round(prec,2), 'recall':round(rec,2)})"
   ]
  },
  {
   "cell_type": "code",
   "execution_count": 189,
   "id": "1e380ca2-56ce-407b-b2eb-b164c32aa72e",
   "metadata": {},
   "outputs": [
    {
     "name": "stdout",
     "output_type": "stream",
     "text": [
      "Class 0 Metrics:\n",
      "Precision: 0.9523952545427241\n",
      "Recall: 0.8676973594198932\n",
      "F1-Score: 0.9080756013745704\n",
      "Class 1 Metrics:\n",
      "Precision: 0.3875870804306523\n",
      "Recall: 0.658772874058127\n",
      "F1-Score: 0.4880382775119617\n"
     ]
    }
   ],
   "source": [
    "#understanding how the model performs on both the classes separately\n",
    "from sklearn.metrics import precision_score, recall_score, f1_score\n",
    "# Assuming 'y_test' and 'pred' are your true and predicted labels\n",
    "precision_0 = precision_score(y_test, pred, pos_label=0)\n",
    "recall_0 = recall_score(y_test, pred, pos_label=0)\n",
    "f1_0 = f1_score(y_test, pred, pos_label=0)\n",
    "\n",
    "precision_1 = precision_score(y_test, pred, pos_label=1)\n",
    "recall_1 = recall_score(y_test, pred, pos_label=1)\n",
    "f1_1 = f1_score(y_test, pred, pos_label=1)\n",
    "\n",
    "print('Class 0 Metrics:')\n",
    "print(f'Precision: {precision_0}')\n",
    "print(f'Recall: {recall_0}')\n",
    "print(f'F1-Score: {f1_0}')\n",
    "\n",
    "print('Class 1 Metrics:')\n",
    "print(f'Precision: {precision_1}')\n",
    "print(f'Recall: {recall_1}')\n",
    "print(f'F1-Score: {f1_1}')\n"
   ]
  },
  {
   "cell_type": "code",
   "execution_count": null,
   "id": "eaffd999-2125-427c-8c05-c2342cbbd735",
   "metadata": {},
   "outputs": [],
   "source": [
    "#confusion matrix (y axis is actual and x axis is predicted)\n",
    "from sklearn.metrics import confusion_matrix\n",
    "cm=confusion_matrix(y_test,pred)\n",
    "print(cm)\n",
    "plt.figure(figsize=(8, 6))\n",
    "sns.heatmap(cm, annot=True, fmt=\"d\", cmap=\"Blues\", xticklabels=[0, 1], yticklabels=[0, 1])"
   ]
  }
 ],
 "metadata": {
  "kernelspec": {
   "display_name": "myenv",
   "language": "python",
   "name": "myenv"
  },
  "language_info": {
   "codemirror_mode": {
    "name": "ipython",
    "version": 3
   },
   "file_extension": ".py",
   "mimetype": "text/x-python",
   "name": "python",
   "nbconvert_exporter": "python",
   "pygments_lexer": "ipython3",
   "version": "3.9.18"
  }
 },
 "nbformat": 4,
 "nbformat_minor": 5
}
